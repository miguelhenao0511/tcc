{
  "nbformat": 4,
  "nbformat_minor": 0,
  "metadata": {
    "colab": {
      "name": "Lectura XML.ipynb",
      "provenance": [],
      "collapsed_sections": []
    },
    "kernelspec": {
      "name": "python3",
      "display_name": "Python 3"
    }
  },
  "cells": [
    {
      "cell_type": "code",
      "metadata": {
        "id": "oLCdtWz8vlZi",
        "colab_type": "code",
        "colab": {}
      },
      "source": [
        "#from google.colab import drive\n",
        "#drive.mount('/content/gdrive',force_remount=True)"
      ],
      "execution_count": null,
      "outputs": []
    },
    {
      "cell_type": "markdown",
      "metadata": {
        "id": "VKrNgh5psJBp",
        "colab_type": "text"
      },
      "source": [
        "#Lectura del archivo XML"
      ]
    },
    {
      "cell_type": "code",
      "metadata": {
        "id": "TA1aRu4aHjHj",
        "colab_type": "code",
        "colab": {}
      },
      "source": [
        "#En el parse poner el nombre del archivo dentro de los paréntesis\n",
        "\n",
        "import xml.dom.minidom\n",
        "domtree = xml.dom.minidom.parse('nombre_archivo.bpmn')\n",
        "domtree1 = domtree.toprettyxml()\n",
        "#print(domtree1)"
      ],
      "execution_count": 1,
      "outputs": []
    },
    {
      "cell_type": "markdown",
      "metadata": {
        "id": "-jRdpvbHsUOB",
        "colab_type": "text"
      },
      "source": [
        "#Identificación de nodo raíz en XML"
      ]
    },
    {
      "cell_type": "code",
      "metadata": {
        "id": "TqeU2cTrLZze",
        "colab_type": "code",
        "colab": {}
      },
      "source": [
        "#Definir Nodo raíz del XML\n",
        "definitions = domtree.documentElement\n",
        "print(definitions)"
      ],
      "execution_count": null,
      "outputs": []
    },
    {
      "cell_type": "markdown",
      "metadata": {
        "id": "DSui3_jLsbHJ",
        "colab_type": "text"
      },
      "source": [
        "#Lectura de nodos hijo conectados al nodo raíz "
      ]
    },
    {
      "cell_type": "code",
      "metadata": {
        "id": "vt6NdW-YIJSP",
        "colab_type": "code",
        "colab": {}
      },
      "source": [
        "#Definir los procesos dentro del XML\n",
        "processes = definitions.getElementsByTagName('bpmn:process')\n",
        "for process in processes:\n",
        "    print(\"---Process---\")\n",
        "    print(process)\n",
        "    print(process.childNodes)\n",
        "    if process.hasAttribute('id'):\n",
        "        print(\"ID: {}\".format(process.getAttribute('id')))"
      ],
      "execution_count": null,
      "outputs": []
    },
    {
      "cell_type": "code",
      "metadata": {
        "id": "5XPAcASfPzSb",
        "colab_type": "code",
        "colab": {}
      },
      "source": [
        "print(processes)"
      ],
      "execution_count": null,
      "outputs": []
    },
    {
      "cell_type": "markdown",
      "metadata": {
        "id": "joty14U4sm-w",
        "colab_type": "text"
      },
      "source": [
        "#Obtención y lectura de los objetos en el flujo de procesos"
      ]
    },
    {
      "cell_type": "code",
      "metadata": {
        "id": "ogWKMlpmIJ8M",
        "colab_type": "code",
        "colab": {}
      },
      "source": [
        "#Función para obtener todos los elementos/Nodos hijo de los procesos\n",
        "def getElement(nodeList):\n",
        "  rc = []\n",
        "  for node in nodeList:\n",
        "    if node.nodeType == node.ELEMENT_NODE:\n",
        "      rc.append(node)\n",
        "  return rc"
      ],
      "execution_count": 5,
      "outputs": []
    },
    {
      "cell_type": "code",
      "metadata": {
        "id": "YpfqW_moNcZP",
        "colab_type": "code",
        "colab": {}
      },
      "source": [
        "#Lista que contiene los elementos de cada proceso en sublistas\n",
        "EleNodes = []\n",
        "for process in processes:\n",
        "  nodes = process.childNodes\n",
        "  EleNodes.append(getElement(nodes))\n",
        "print(EleNodes)"
      ],
      "execution_count": null,
      "outputs": []
    },
    {
      "cell_type": "code",
      "metadata": {
        "colab_type": "code",
        "id": "hDatOyK1NdLX",
        "colab": {}
      },
      "source": [
        "Líneas = definitions.getElementsByTagName('bpmn:collaboration')\n",
        "Líneas"
      ],
      "execution_count": null,
      "outputs": []
    },
    {
      "cell_type": "code",
      "metadata": {
        "id": "mmQcl0vyLSnc",
        "colab_type": "code",
        "colab": {}
      },
      "source": [
        "#Permite identificar los diferentes carriles y sus conexiones\n",
        "participantes = []\n",
        "for e in Líneas:\n",
        "  p = e.childNodes\n",
        "  participantes.append(getElement(p))\n",
        "participantes"
      ],
      "execution_count": null,
      "outputs": []
    },
    {
      "cell_type": "code",
      "metadata": {
        "id": "UdlEB0VULs-t",
        "colab_type": "code",
        "colab": {}
      },
      "source": [
        "#Muestra los carriles y sus conexiones con sus atributos\n",
        "for elements in participantes:\n",
        "  for e in elements:\n",
        "    print(e.tagName)\n",
        "    if e.hasAttribute('id'):\n",
        "      print(\"ID: {}\".format(e.getAttribute('id')))\n",
        "    if e.hasAttribute('processRef'):\n",
        "      print(\"Proceso: {}\".format(e.getAttribute('processRef')))\n",
        "    if e.hasAttribute('sourceRef'):\n",
        "      print(\"Referencia salida: {}\".format(e.getAttribute('sourceRef')))\n",
        "    if e.hasAttribute('targetRef'):\n",
        "      print(\"Referencia entrada: {}\".format(e.getAttribute('targetRef')))\n",
        "    if e.hasAttribute('name'):\n",
        "      print(\"Name: {}\".format(e.getAttribute('name')))\n",
        "    print(\"-----------------\")"
      ],
      "execution_count": null,
      "outputs": []
    },
    {
      "cell_type": "code",
      "metadata": {
        "id": "0N3FiiaoQDWF",
        "colab_type": "code",
        "colab": {}
      },
      "source": [
        "#Muestra cada elemento dentro de los procesos y sus respectivos atributos\n",
        "for elements in EleNodes:\n",
        "  for e in elements:\n",
        "    print(e.tagName)\n",
        "    if e.hasAttribute('id'):\n",
        "      print(\"ID: {}\".format(e.getAttribute('id')))\n",
        "    if e.hasAttribute('sourceRef'):\n",
        "      print(\"Referencia salida: {}\".format(e.getAttribute('sourceRef')))\n",
        "    if e.hasAttribute('targetRef'):\n",
        "      print(\"Referencia entrada: {}\".format(e.getAttribute('targetRef')))\n",
        "    if e.hasAttribute('name'):\n",
        "      print(\"Name: {}\".format(e.getAttribute('name')))\n",
        "    print(\"------------\")"
      ],
      "execution_count": null,
      "outputs": []
    },
    {
      "cell_type": "markdown",
      "metadata": {
        "id": "IsCzuEFZs2Ye",
        "colab_type": "text"
      },
      "source": [
        "#Lista de nodos hijo de la raíz"
      ]
    },
    {
      "cell_type": "code",
      "metadata": {
        "id": "f5mY0j9uTi_C",
        "colab_type": "code",
        "colab": {}
      },
      "source": [
        "getElement(definitions.childNodes)"
      ],
      "execution_count": null,
      "outputs": []
    },
    {
      "cell_type": "markdown",
      "metadata": {
        "id": "PPb-0s47wyuK",
        "colab_type": "text"
      },
      "source": [
        "#Conexión proceso-flujo"
      ]
    },
    {
      "cell_type": "code",
      "metadata": {
        "id": "ojDGNm8WdQrj",
        "colab_type": "code",
        "colab": {}
      },
      "source": [
        "#Lista de flujos dentro de los procesos\n",
        "Flujo = []\n",
        "for elements in EleNodes:\n",
        "  for e in elements:\n",
        "    if e.tagName == 'bpmn:sequenceFlow':\n",
        "      Flujo.append(e)\n",
        "Flujo"
      ],
      "execution_count": null,
      "outputs": []
    },
    {
      "cell_type": "code",
      "metadata": {
        "id": "pgmYvIMG6lBt",
        "colab_type": "code",
        "colab": {}
      },
      "source": [
        "#Lista de elementos de los diferentes procesos\n",
        "Elementos = []\n",
        "for elements in EleNodes:\n",
        "  for e in elements:\n",
        "    if e.tagName != 'bpmn:sequenceFlow':\n",
        "      Elementos.append(e)\n",
        "Elementos"
      ],
      "execution_count": null,
      "outputs": []
    },
    {
      "cell_type": "code",
      "metadata": {
        "id": "--yr_7Dn69AT",
        "colab_type": "code",
        "colab": {}
      },
      "source": [
        "#Muestra la conexión elemento-flujo dentro de procesos\n",
        "conexiones = []\n",
        "for e in Elementos:\n",
        "  for f in Flujo:\n",
        "    if e.getAttribute('id') == f.getAttribute('sourceRef'):\n",
        "      print(e.getAttribute('name'), 'conectado con', f.getAttribute('id'))\n",
        "      print('--------')\n",
        "      conexiones.append((e,f))"
      ],
      "execution_count": null,
      "outputs": []
    },
    {
      "cell_type": "code",
      "metadata": {
        "id": "L1q4A4sl_g0R",
        "colab_type": "code",
        "colab": {}
      },
      "source": [
        "print(conexiones)"
      ],
      "execution_count": null,
      "outputs": []
    },
    {
      "cell_type": "code",
      "metadata": {
        "id": "W3fb6fhHAX-S",
        "colab_type": "code",
        "colab": {}
      },
      "source": [
        "#Mostramos las conexiones Elemento-Flujo-Elemento con sus tokens\n",
        "ExplicitConexions = []\n",
        "for c in conexiones:\n",
        "  #print(c)\n",
        "  for f in Flujo:\n",
        "    if c[1].getAttribute('id') == f.getAttribute('id'):\n",
        "      print(c[0].getAttribute('id'), '----', c[1].getAttribute('id'), '--->', f.getAttribute('targetRef'))\n",
        "      print('--------')\n",
        "      ExplicitConexions.append((c[0], c[1], f))"
      ],
      "execution_count": null,
      "outputs": []
    },
    {
      "cell_type": "code",
      "metadata": {
        "id": "LcJjrSMmCMql",
        "colab_type": "code",
        "colab": {}
      },
      "source": [
        "print(ExplicitConexions)"
      ],
      "execution_count": null,
      "outputs": []
    },
    {
      "cell_type": "code",
      "metadata": {
        "id": "pq_ZtljZEOkG",
        "colab_type": "code",
        "colab": {}
      },
      "source": [
        "#Mostramos las conexiones Elemento-Flujo-Elemento con sus respectivos nombres o tokens si no tiene nombre\n",
        "for c in ExplicitConexions:\n",
        "  for e in Elementos:\n",
        "    if c[2].getAttribute('targetRef') == e.getAttribute('id'):\n",
        "      if e.hasAttribute('name'):\n",
        "        print(c[0].getAttribute('name'), '----', c[1].getAttribute('id'), '--->', e.getAttribute('name'))\n",
        "      else:\n",
        "        print(c[0].getAttribute('name'), '----', c[1].getAttribute('id'), '--->', e.getAttribute('id'))\n",
        "      print('--------')"
      ],
      "execution_count": null,
      "outputs": []
    }
  ]
}