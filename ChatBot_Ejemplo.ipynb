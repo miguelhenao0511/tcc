{
  "nbformat": 4,
  "nbformat_minor": 0,
  "metadata": {
    "colab": {
      "name": "ChatBot-Ejemplo.ipynb",
      "provenance": [],
      "collapsed_sections": []
    },
    "kernelspec": {
      "name": "python3",
      "display_name": "Python 3"
    }
  },
  "cells": [
    {
      "cell_type": "code",
      "metadata": {
        "id": "Q4FtAOVwDkxX",
        "colab": {
          "base_uri": "https://localhost:8080/"
        },
        "outputId": "5426cf0a-64ad-4619-ca52-257d6a8bfc3d"
      },
      "source": [
        "%%bash\n",
        "#instalar librerías\n",
        "pip3 install flask\n",
        "pip3 install chatterbot\n",
        "pip3 install chatterbot==1.0.1"
      ],
      "execution_count": 1,
      "outputs": [
        {
          "output_type": "stream",
          "text": [
            "Requirement already satisfied: flask in /usr/local/lib/python3.6/dist-packages (1.1.2)\n",
            "Requirement already satisfied: Jinja2>=2.10.1 in /usr/local/lib/python3.6/dist-packages (from flask) (2.11.2)\n",
            "Requirement already satisfied: Werkzeug>=0.15 in /usr/local/lib/python3.6/dist-packages (from flask) (1.0.1)\n",
            "Requirement already satisfied: itsdangerous>=0.24 in /usr/local/lib/python3.6/dist-packages (from flask) (1.1.0)\n",
            "Requirement already satisfied: click>=5.1 in /usr/local/lib/python3.6/dist-packages (from flask) (7.1.2)\n",
            "Requirement already satisfied: MarkupSafe>=0.23 in /usr/local/lib/python3.6/dist-packages (from Jinja2>=2.10.1->flask) (1.1.1)\n",
            "Collecting chatterbot\n",
            "  Downloading https://files.pythonhosted.org/packages/7c/21/85c2b114bd9dfabdd46ba58fc4519acdaed45d8c70898d40079e37a45e67/ChatterBot-1.0.8-py2.py3-none-any.whl (63kB)\n",
            "Requirement already satisfied: python-dateutil<2.9,>=2.8 in /usr/local/lib/python3.6/dist-packages (from chatterbot) (2.8.1)\n",
            "Collecting mathparse<0.2,>=0.1\n",
            "  Downloading https://files.pythonhosted.org/packages/c3/e5/4910fb85950cb960fcf3f5aabe1c8e55f5c9201788a1c1302b570a7e1f84/mathparse-0.1.2-py3-none-any.whl\n",
            "Requirement already satisfied: sqlalchemy<1.4,>=1.3 in /usr/local/lib/python3.6/dist-packages (from chatterbot) (1.3.20)\n",
            "Requirement already satisfied: pytz in /usr/local/lib/python3.6/dist-packages (from chatterbot) (2018.9)\n",
            "Requirement already satisfied: six>=1.5 in /usr/local/lib/python3.6/dist-packages (from python-dateutil<2.9,>=2.8->chatterbot) (1.15.0)\n",
            "Installing collected packages: mathparse, chatterbot\n",
            "Successfully installed chatterbot-1.0.8 mathparse-0.1.2\n",
            "Collecting chatterbot==1.0.1\n",
            "  Downloading https://files.pythonhosted.org/packages/ba/5f/e5cfc987626932ecca88de8f1e618ef96e4bda02fded54fa2debe6ca5cd6/ChatterBot-1.0.1-py2.py3-none-any.whl (65kB)\n",
            "Collecting sqlalchemy<1.3,>=1.2\n",
            "  Downloading https://files.pythonhosted.org/packages/f9/67/d07cf7ac7e6dd0bc55ba62816753f86d7c558107104ca915e730c9ec2512/SQLAlchemy-1.2.19.tar.gz (5.7MB)\n",
            "Collecting pint>=0.8.1\n",
            "  Downloading https://files.pythonhosted.org/packages/5f/0e/dd4fb17aed6bfbc168fd767cffb6ec20b634009b75fd8ea699ea244bff3c/Pint-0.16.1-py2.py3-none-any.whl (205kB)\n",
            "Collecting python-dateutil<2.8,>=2.7\n",
            "  Downloading https://files.pythonhosted.org/packages/74/68/d87d9b36af36f44254a8d512cbfc48369103a3b9e474be9bdfe536abfc45/python_dateutil-2.7.5-py2.py3-none-any.whl (225kB)\n",
            "Requirement already satisfied: mathparse<0.2,>=0.1 in /usr/local/lib/python3.6/dist-packages (from chatterbot==1.0.1) (0.1.2)\n",
            "Collecting chatterbot-corpus<1.3,>=1.2\n",
            "  Downloading https://files.pythonhosted.org/packages/ed/19/f8b41daf36fe4b0f43e283a820362ffdb2c1128600ab4ee187e84262fa4d/chatterbot_corpus-1.2.0-py2.py3-none-any.whl (117kB)\n",
            "Requirement already satisfied: pymongo<4.0,>=3.3 in /usr/local/lib/python3.6/dist-packages (from chatterbot==1.0.1) (3.11.1)\n",
            "Requirement already satisfied: nltk<4.0,>=3.2 in /usr/local/lib/python3.6/dist-packages (from chatterbot==1.0.1) (3.2.5)\n",
            "Requirement already satisfied: importlib-resources; python_version < \"3.7\" in /usr/local/lib/python3.6/dist-packages (from pint>=0.8.1->chatterbot==1.0.1) (3.3.0)\n",
            "Requirement already satisfied: importlib-metadata; python_version < \"3.8\" in /usr/local/lib/python3.6/dist-packages (from pint>=0.8.1->chatterbot==1.0.1) (2.0.0)\n",
            "Requirement already satisfied: packaging in /usr/local/lib/python3.6/dist-packages (from pint>=0.8.1->chatterbot==1.0.1) (20.4)\n",
            "Requirement already satisfied: six>=1.5 in /usr/local/lib/python3.6/dist-packages (from python-dateutil<2.8,>=2.7->chatterbot==1.0.1) (1.15.0)\n",
            "Requirement already satisfied: PyYAML<4.0,>=3.12 in /usr/local/lib/python3.6/dist-packages (from chatterbot-corpus<1.3,>=1.2->chatterbot==1.0.1) (3.13)\n",
            "Requirement already satisfied: zipp>=0.4; python_version < \"3.8\" in /usr/local/lib/python3.6/dist-packages (from importlib-resources; python_version < \"3.7\"->pint>=0.8.1->chatterbot==1.0.1) (3.4.0)\n",
            "Requirement already satisfied: pyparsing>=2.0.2 in /usr/local/lib/python3.6/dist-packages (from packaging->pint>=0.8.1->chatterbot==1.0.1) (2.4.7)\n",
            "Building wheels for collected packages: sqlalchemy\n",
            "  Building wheel for sqlalchemy (setup.py): started\n",
            "  Building wheel for sqlalchemy (setup.py): finished with status 'done'\n",
            "  Created wheel for sqlalchemy: filename=SQLAlchemy-1.2.19-cp36-cp36m-linux_x86_64.whl size=1151168 sha256=de714a2ef59c48159d38ffda2505d3819c7d744006365a4096ffb7f9e15e751e\n",
            "  Stored in directory: /root/.cache/pip/wheels/2c/90/a7/3b40c6cc468abff357b38fd075429920bd0d313659d889cf8a\n",
            "Successfully built sqlalchemy\n",
            "Installing collected packages: sqlalchemy, pint, python-dateutil, chatterbot-corpus, chatterbot\n",
            "  Found existing installation: SQLAlchemy 1.3.20\n",
            "    Uninstalling SQLAlchemy-1.3.20:\n",
            "      Successfully uninstalled SQLAlchemy-1.3.20\n",
            "  Found existing installation: python-dateutil 2.8.1\n",
            "    Uninstalling python-dateutil-2.8.1:\n",
            "      Successfully uninstalled python-dateutil-2.8.1\n",
            "  Found existing installation: ChatterBot 1.0.8\n",
            "    Uninstalling ChatterBot-1.0.8:\n",
            "      Successfully uninstalled ChatterBot-1.0.8\n",
            "Successfully installed chatterbot-1.0.1 chatterbot-corpus-1.2.0 pint-0.16.1 python-dateutil-2.7.5 sqlalchemy-1.2.19\n"
          ],
          "name": "stdout"
        },
        {
          "output_type": "stream",
          "text": [
            "ERROR: fbprophet 0.7.1 has requirement python-dateutil>=2.8.0, but you'll have python-dateutil 2.7.5 which is incompatible.\n",
            "ERROR: albumentations 0.1.12 has requirement imgaug<0.2.7,>=0.2.5, but you'll have imgaug 0.2.9 which is incompatible.\n"
          ],
          "name": "stderr"
        }
      ]
    },
    {
      "cell_type": "code",
      "metadata": {
        "id": "-PBoFmwkEKDl"
      },
      "source": [
        "#Crear carpeta\n",
        "!mkdir bot"
      ],
      "execution_count": 2,
      "outputs": []
    },
    {
      "cell_type": "code",
      "metadata": {
        "id": "xhWPGRJiEvNb"
      },
      "source": [
        "%%bash\n",
        "#En la carpeta bot crear sample.py y las carpetas templates y datos\n",
        "cd bot\n",
        "touch sample.py\n",
        "mkdir templates\n",
        "mkdir datos"
      ],
      "execution_count": 3,
      "outputs": []
    },
    {
      "cell_type": "code",
      "metadata": {
        "id": "QeqD0El4FI_U"
      },
      "source": [
        "%%bash\n",
        "#ingresar a la carpeta templates y crear el archivo html\n",
        "cd bot/templates\n",
        "touch index.html"
      ],
      "execution_count": 4,
      "outputs": []
    },
    {
      "cell_type": "code",
      "metadata": {
        "id": "LUN691v5FVM7"
      },
      "source": [
        "%%bash\n",
        "#ingresar a la carpeta de datos y crear el archivo yml\n",
        "cd bot/datos\n",
        "touch training.txt"
      ],
      "execution_count": 5,
      "outputs": []
    },
    {
      "cell_type": "code",
      "metadata": {
        "id": "ZYGom4fIFd2b",
        "colab": {
          "base_uri": "https://localhost:8080/",
          "height": 36
        },
        "outputId": "5574eae5-c3c4-4d80-f8e0-10e7223b48f4"
      },
      "source": [
        "# Consultamos la dirección URL del servidor colab\n",
        "from google.colab.output import eval_js\n",
        "print(eval_js(\"google.colab.kernel.proxyPort(5000)\"))"
      ],
      "execution_count": 6,
      "outputs": [
        {
          "output_type": "stream",
          "text": [
            "https://l89j862mye-496ff2e9c6d22116-5000-colab.googleusercontent.com/\n"
          ],
          "name": "stdout"
        }
      ]
    },
    {
      "cell_type": "code",
      "metadata": {
        "id": "WcEb3sw1FqJT",
        "colab": {
          "base_uri": "https://localhost:8080/"
        },
        "outputId": "36566290-09d9-42c7-e0ce-104796d3b4eb"
      },
      "source": [
        "from flask import Flask\n",
        "\n",
        "app= Flask(__name__) # nombre del modulo o el paquete\n",
        "\n",
        "@app.route('/')\n",
        "def index():\n",
        "    return \"Hola mundo cruel\"  #ENVIAR A HTML\n",
        "\n",
        "\n",
        "if __name__==\"__main__\":\n",
        "    app.run()"
      ],
      "execution_count": null,
      "outputs": [
        {
          "output_type": "stream",
          "text": [
            " * Serving Flask app \"__main__\" (lazy loading)\n",
            " * Environment: production\n",
            "\u001b[31m   WARNING: This is a development server. Do not use it in a production deployment.\u001b[0m\n",
            "\u001b[2m   Use a production WSGI server instead.\u001b[0m\n",
            " * Debug mode: off\n"
          ],
          "name": "stdout"
        },
        {
          "output_type": "stream",
          "text": [
            " * Running on http://127.0.0.1:5000/ (Press CTRL+C to quit)\n",
            "127.0.0.1 - - [28/Oct/2020 21:59:01] \"\u001b[37mGET / HTTP/1.1\u001b[0m\" 200 -\n",
            "127.0.0.1 - - [28/Oct/2020 21:59:02] \"\u001b[33mGET /favicon.ico HTTP/1.1\u001b[0m\" 404 -\n"
          ],
          "name": "stderr"
        }
      ]
    },
    {
      "cell_type": "code",
      "metadata": {
        "id": "24hlK4SsF7k1",
        "colab": {
          "base_uri": "https://localhost:8080/"
        },
        "outputId": "81eb9d34-402c-4374-f188-00edec8b723b"
      },
      "source": [
        "%%bash\n",
        "cd bot\n",
        "python3 sample.py"
      ],
      "execution_count": 35,
      "outputs": [
        {
          "output_type": "stream",
          "text": [
            "Process is terminated.\n"
          ],
          "name": "stdout"
        }
      ]
    },
    {
      "cell_type": "code",
      "metadata": {
        "id": "K2tW7FDhNPRX"
      },
      "source": [
        "!exit"
      ],
      "execution_count": 36,
      "outputs": []
    },
    {
      "cell_type": "code",
      "metadata": {
        "id": "-pXQGyK6MYmu"
      },
      "source": [
        "!sudo lsof -i :5000"
      ],
      "execution_count": 37,
      "outputs": []
    },
    {
      "cell_type": "code",
      "metadata": {
        "id": "DXonnxmiF0zc"
      },
      "source": [
        "\"\"\"\n",
        "Nuevo sample.py\n",
        "\n",
        "from flask import Flask,render_template,request\n",
        "from chatterbot import ChatBot\n",
        "from chatterbot.trainers import ListTrainer \n",
        "\n",
        "\n",
        "app= Flask(__name__) # nombre del modulo o el paquete\n",
        "spa_bot=ChatBot(\"Chatterbot\",storage_adapter=\"chatterbot.storage.SQLStorageAdapter\")\n",
        "Trainer = ListTrainer(spa_bot)\n",
        "data = open('bot/datos/training.txt').read()\n",
        "conver = data.strip().split('\\n-')\n",
        "conver = [dato.replace('\\n', '<br>') for dato in conver]\n",
        "Trainer.train(conver)\n",
        "#trainer.train(\"chatterbot.corpus.spanish\")\n",
        "\n",
        "\n",
        "@app.route('/')\n",
        "def index():\n",
        "    return render_template(\"index.html\")  #ENVIAR A HTML\n",
        "\n",
        "@app.route('/get')\n",
        "def get_bot_response():\n",
        "    userText=request.args.get(\"msg\")  #tomar datos de la entrada, escribimos js en el index.html\n",
        "    return str(spa_bot.get_response(userText))\n",
        "\n",
        "\n",
        "if __name__==\"__main__\":\n",
        "    app.run()\n",
        "\"\"\""
      ],
      "execution_count": null,
      "outputs": []
    },
    {
      "cell_type": "code",
      "metadata": {
        "id": "4E4tpEu3LUnW"
      },
      "source": [
        "\"\"\"\n",
        "index.html\n",
        "\n",
        "<!DOCTYPE html>\n",
        "<html>\n",
        "<head>\n",
        "<script src=\"https://ajax.googleapis.com/ajax/libs/jquery/3.2.1/jquery.min.js\"></script>\n",
        "</head>\n",
        "<body>\n",
        "<hl>Flask Chatbot</hl>\n",
        "<div>\n",
        "<div id=\"chatbox\">\n",
        "<p class=\"botText\"><span>Hola! Soy tu Chatterbot.</span></p>\n",
        "</div>\n",
        "<div id= \"userInput\">\n",
        "<input id=\"textInput\" type=\"text\" name=\"msg\" placeholder=\"Message\">\n",
        "<input id=\"buttonInput\" type=\"submit\" value=\"Send\">\n",
        "</div>\n",
        "<script>\n",
        "function getBotResponse(){\n",
        "var rawText=$(\"#textInput\").val();\n",
        "var userHtml='<p class=\"userText\"><span>'+rawText+'</span></p>';\n",
        "$(\"#textInput\").val(\"\");\n",
        "$(\"#chatbox\").append(userHtml);\n",
        "document.getElementById('userInput').scrollIntoView({block:'start',behavior:'smooth'});\n",
        "$.get(\"/get\",{msg:rawText}).done(function(datos){\n",
        "var botHtml='<p class=\"botText\"><span>'+datos+'</span></p>';\n",
        "$(\"#chatbox\").append(botHtml);\n",
        "document.getElementById('userInput').scrollIntoView({block:'start',behaviour:'smooth'}\n",
        ");\n",
        "                });\n",
        "            }\n",
        "            $(\"#textInput\").keypress(function(e){\n",
        " if(e.wich==13){\n",
        "              getBotResponse();\n",
        "                }\n",
        "            });\n",
        "            $(\"#buttonInput\").click(function(){\n",
        "                getBotResponse();\n",
        "            })\n",
        "        </script>\n",
        "    </div>   \n",
        "</body>   \n",
        "</html>\n",
        "\"\"\""
      ],
      "execution_count": null,
      "outputs": []
    },
    {
      "cell_type": "code",
      "metadata": {
        "id": "VIithZEwGxVy"
      },
      "source": [
        ""
      ],
      "execution_count": null,
      "outputs": []
    }
  ]
}