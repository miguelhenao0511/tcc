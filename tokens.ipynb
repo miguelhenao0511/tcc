{
  "nbformat": 4,
  "nbformat_minor": 0,
  "metadata": {
    "colab": {
      "name": "tokens",
      "provenance": [],
      "collapsed_sections": []
    },
    "kernelspec": {
      "name": "python3",
      "display_name": "Python 3"
    }
  },
  "cells": [
    {
      "cell_type": "code",
      "metadata": {
        "id": "ZHz1mFNhrUW1"
      },
      "source": [
        "class Token:\n",
        "  def __init__(self,id):\n",
        "    self.id = id"
      ],
      "execution_count": null,
      "outputs": []
    },
    {
      "cell_type": "code",
      "metadata": {
        "id": "-jglxnZEoenm"
      },
      "source": [
        "class Task_Token(Token):\n",
        "  def __init__(self,id,name,DOR):\n",
        "    super().__init__(id)\n",
        "    self.name = name\n",
        "    self.DOR = DOR"
      ],
      "execution_count": null,
      "outputs": []
    },
    {
      "cell_type": "code",
      "metadata": {
        "id": "_KSpwpN_qP1P"
      },
      "source": [
        "class DOR_Token(Token):\n",
        "  def __init__(self,id,name):\n",
        "    super().__init__(id)\n",
        "    self.campos = list(name)"
      ],
      "execution_count": null,
      "outputs": []
    },
    {
      "cell_type": "code",
      "metadata": {
        "id": "OpgBi5ch4LFS"
      },
      "source": [
        "class startEvent_Token(Token):\n",
        "  def __init__(self,id,name):\n",
        "    super().__init__(id)\n",
        "    self.name = name"
      ],
      "execution_count": null,
      "outputs": []
    },
    {
      "cell_type": "code",
      "metadata": {
        "id": "yQb5FE4Y4qRY"
      },
      "source": [
        "class sequenceFlow_Token(Token):\n",
        "  def __init__(self,id,entrada,salida,name=None):\n",
        "    super().__init__(id)\n",
        "    self.entrada = entrada\n",
        "    self.salida = salida\n",
        "    self.name=name"
      ],
      "execution_count": null,
      "outputs": []
    },
    {
      "cell_type": "code",
      "metadata": {
        "id": "Ft4-6uRq7JKn"
      },
      "source": [
        "class endEvent_Token(Token):\n",
        "  def __init__(self,id,name=None):\n",
        "    super().__init__(id)\n",
        "    self.name = name"
      ],
      "execution_count": null,
      "outputs": []
    },
    {
      "cell_type": "code",
      "metadata": {
        "id": "6SfUSwamp81O"
      },
      "source": [
        "class gateway_Token(Token):\n",
        "  def __init__(self,id,name):\n",
        "    super().__init__(id)\n",
        "    self.name = name"
      ],
      "execution_count": null,
      "outputs": []
    },
    {
      "cell_type": "code",
      "metadata": {
        "id": "iwNW4Ld9quUl"
      },
      "source": [
        "#En el parse poner el nombre del archivo dentro de los paréntesis\n",
        "\n",
        "import xml.dom.minidom\n",
        "domtree = xml.dom.minidom.parse('bpmn_tienda.bpmn')\n",
        "definitions = domtree.documentElement\n",
        "#Función para obtener todos los elementos/Nodos hijo de los procesos\n",
        "def getElement(nodeList):\n",
        "  rc = []\n",
        "  for node in nodeList:\n",
        "    if node.nodeType == node.ELEMENT_NODE:\n",
        "      rc.append(node)\n",
        "  return rc"
      ],
      "execution_count": null,
      "outputs": []
    },
    {
      "cell_type": "code",
      "metadata": {
        "id": "OeYaQArquVUO",
        "outputId": "2d2a5ddf-58b6-4fc2-992b-6376b94c7f3d",
        "colab": {
          "base_uri": "https://localhost:8080/",
          "height": 54
        }
      },
      "source": [
        "colab = definitions.getElementsByTagName('bpmn:collaboration')\n",
        "\n",
        "participantes = []\n",
        "for e in colab:\n",
        "  p = e.childNodes\n",
        "  participantes.append(getElement(p))\n",
        "participantes"
      ],
      "execution_count": null,
      "outputs": [
        {
          "output_type": "execute_result",
          "data": {
            "text/plain": [
              "[[<DOM Element: bpmn:participant at 0x7f6eef1799c8>,\n",
              "  <DOM Element: bpmn:participant at 0x7f6eef179a60>]]"
            ]
          },
          "metadata": {
            "tags": []
          },
          "execution_count": 9
        }
      ]
    },
    {
      "cell_type": "code",
      "metadata": {
        "id": "nVGxsbzHq3ve",
        "outputId": "a47fcd69-e621-444a-8226-8583776c7e1e",
        "colab": {
          "base_uri": "https://localhost:8080/",
          "height": 187
        }
      },
      "source": [
        "#Definir los procesos dentro del XML\n",
        "processes = definitions.getElementsByTagName('bpmn:process')\n",
        "for process in processes:\n",
        "    print(\"---Process---\")\n",
        "    print(process)\n",
        "    print(process.childNodes)\n",
        "    if process.hasAttribute('id'):\n",
        "        print(\"ID: {}\".format(process.getAttribute('id')))"
      ],
      "execution_count": null,
      "outputs": [
        {
          "output_type": "stream",
          "text": [
            "---Process---\n",
            "<DOM Element: bpmn:process at 0x7f6eef179af8>\n",
            "[<DOM Text node \"'\\n    '\">, <DOM Element: bpmn:task at 0x7f6eef179b90>, <DOM Text node \"'\\n    '\">, <DOM Element: bpmn:startEvent at 0x7f6eef179d58>, <DOM Text node \"'\\n    '\">, <DOM Element: bpmn:task at 0x7f6eef179e88>, <DOM Text node \"'\\n    '\">, <DOM Element: bpmn:exclusiveGateway at 0x7f6eee8580e0>, <DOM Text node \"'\\n    '\">, <DOM Element: bpmn:task at 0x7f6eee8583d8>, <DOM Text node \"'\\n    '\">, <DOM Element: bpmn:task at 0x7f6eee8585a0>, <DOM Text node \"'\\n    '\">, <DOM Element: bpmn:dataObjectReference at 0x7f6eee8586d0>, <DOM Text node \"'\\n    '\">, <DOM Element: bpmn:dataObject at 0x7f6eee858768>, <DOM Text node \"'\\n    '\">, <DOM Element: bpmn:task at 0x7f6eee858800>, <DOM Text node \"'\\n    '\">, <DOM Element: bpmn:task at 0x7f6eee858a60>, <DOM Text node \"'\\n    '\">, <DOM Element: bpmn:task at 0x7f6eee858b90>, <DOM Text node \"'\\n    '\">, <DOM Element: bpmn:dataObjectReference at 0x7f6eee858df0>, <DOM Text node \"'\\n    '\">, <DOM Element: bpmn:dataObject at 0x7f6eee858e88>, <DOM Text node \"'\\n    '\">, <DOM Element: bpmn:sequenceFlow at 0x7f6eee858f20>, <DOM Text node \"'\\n    '\">, <DOM Element: bpmn:sequenceFlow at 0x7f6eee861048>, <DOM Text node \"'\\n    '\">, <DOM Element: bpmn:sequenceFlow at 0x7f6eee8610e0>, <DOM Text node \"'\\n    '\">, <DOM Element: bpmn:sequenceFlow at 0x7f6eee861178>, <DOM Text node \"'\\n    '\">, <DOM Element: bpmn:sequenceFlow at 0x7f6eee861210>, <DOM Text node \"'\\n    '\">, <DOM Element: bpmn:sequenceFlow at 0x7f6eee8612a8>, <DOM Text node \"'\\n    '\">, <DOM Element: bpmn:sequenceFlow at 0x7f6eee861340>, <DOM Text node \"'\\n    '\">, <DOM Element: bpmn:sequenceFlow at 0x7f6eee8613d8>, <DOM Text node \"'\\n    '\">, <DOM Element: bpmn:sequenceFlow at 0x7f6eee861470>, <DOM Text node \"'\\n    '\">, <DOM Element: bpmn:sequenceFlow at 0x7f6eee861508>, <DOM Text node \"'\\n    '\">, <DOM Element: bpmn:sequenceFlow at 0x7f6eee8615a0>, <DOM Text node \"'\\n    '\">, <DOM Element: bpmn:sequenceFlow at 0x7f6eee861638>, <DOM Text node \"'\\n    '\">, <DOM Element: bpmn:sequenceFlow at 0x7f6eee8616d0>, <DOM Text node \"'\\n    '\">, <DOM Element: bpmn:sequenceFlow at 0x7f6eee861768>, <DOM Text node \"'\\n    '\">, <DOM Element: bpmn:sequenceFlow at 0x7f6eee861800>, <DOM Text node \"'\\n    '\">, <DOM Element: bpmn:sequenceFlow at 0x7f6eee861898>, <DOM Text node \"'\\n    '\">, <DOM Element: bpmn:sequenceFlow at 0x7f6eee861930>, <DOM Text node \"'\\n    '\">, <DOM Element: bpmn:dataObjectReference at 0x7f6eee8619c8>, <DOM Text node \"'\\n    '\">, <DOM Element: bpmn:dataObject at 0x7f6eee861a60>, <DOM Text node \"'\\n    '\">, <DOM Element: bpmn:endEvent at 0x7f6eee861af8>, <DOM Text node \"'\\n    '\">, <DOM Element: bpmn:task at 0x7f6eee861df0>, <DOM Text node \"'\\n    '\">, <DOM Element: bpmn:task at 0x7f6eee86d0e0>, <DOM Text node \"'\\n    '\">, <DOM Element: bpmn:exclusiveGateway at 0x7f6eee86d340>, <DOM Text node \"'\\n    '\">, <DOM Element: bpmn:task at 0x7f6eee86d6d0>, <DOM Text node \"'\\n    '\">, <DOM Element: bpmn:task at 0x7f6eee86d930>, <DOM Text node \"'\\n    '\">, <DOM Element: bpmn:task at 0x7f6eee86db90>, <DOM Text node \"'\\n    '\">, <DOM Element: bpmn:endEvent at 0x7f6eee86dd58>, <DOM Text node \"'\\n    '\">, <DOM Element: bpmn:task at 0x7f6eee86de88>, <DOM Text node \"'\\n    '\">, <DOM Element: bpmn:endEvent at 0x7f6eee8730e0>, <DOM Text node \"'\\n    '\">, <DOM Element: bpmn:exclusiveGateway at 0x7f6eee873210>, <DOM Text node \"'\\n    '\">, <DOM Element: bpmn:sequenceFlow at 0x7f6eee873508>, <DOM Text node \"'\\n    '\">, <DOM Element: bpmn:sequenceFlow at 0x7f6eee8735a0>, <DOM Text node \"'\\n    '\">, <DOM Element: bpmn:sequenceFlow at 0x7f6eee873638>, <DOM Text node \"'\\n    '\">, <DOM Element: bpmn:sequenceFlow at 0x7f6eee8736d0>, <DOM Text node \"'\\n    '\">, <DOM Element: bpmn:sequenceFlow at 0x7f6eee873768>, <DOM Text node \"'\\n    '\">, <DOM Element: bpmn:sequenceFlow at 0x7f6eee873800>, <DOM Text node \"'\\n    '\">, <DOM Element: bpmn:sequenceFlow at 0x7f6eee873898>, <DOM Text node \"'\\n    '\">, <DOM Element: bpmn:sequenceFlow at 0x7f6eee873930>, <DOM Text node \"'\\n    '\">, <DOM Element: bpmn:task at 0x7f6eee8739c8>, <DOM Text node \"'\\n    '\">, <DOM Element: bpmn:task at 0x7f6eee873cc0>, <DOM Text node \"'\\n    '\">, <DOM Element: bpmn:task at 0x7f6eee873e88>, <DOM Text node \"'\\n    '\">, <DOM Element: bpmn:task at 0x7f6eee87c178>, <DOM Text node \"'\\n    '\">, <DOM Element: bpmn:dataObjectReference at 0x7f6eee87c340>, <DOM Text node \"'\\n    '\">, <DOM Element: bpmn:dataObject at 0x7f6eee87c3d8>, <DOM Text node \"'\\n    '\">, <DOM Element: bpmn:endEvent at 0x7f6eee87c470>, <DOM Text node \"'\\n    '\">, <DOM Element: bpmn:sequenceFlow at 0x7f6eee87c5a0>, <DOM Text node \"'\\n    '\">, <DOM Element: bpmn:task at 0x7f6eee87c638>, <DOM Text node \"'\\n    '\">, <DOM Element: bpmn:task at 0x7f6eee87c768>, <DOM Text node \"'\\n    '\">, <DOM Element: bpmn:sequenceFlow at 0x7f6eee87c898>, <DOM Text node \"'\\n    '\">, <DOM Element: bpmn:task at 0x7f6eee87c930>, <DOM Text node \"'\\n    '\">, <DOM Element: bpmn:task at 0x7f6eee87caf8>, <DOM Text node \"'\\n    '\">, <DOM Element: bpmn:dataObjectReference at 0x7f6eee87cdf0>, <DOM Text node \"'\\n    '\">, <DOM Element: bpmn:dataObject at 0x7f6eee87ce88>, <DOM Text node \"'\\n    '\">, <DOM Element: bpmn:endEvent at 0x7f6eee87cf20>, <DOM Text node \"'\\n    '\">, <DOM Element: bpmn:endEvent at 0x7f6eee8840e0>, <DOM Text node \"'\\n    '\">, <DOM Element: bpmn:sequenceFlow at 0x7f6eee884210>, <DOM Text node \"'\\n    '\">, <DOM Element: bpmn:sequenceFlow at 0x7f6eee8842a8>, <DOM Text node \"'\\n    '\">, <DOM Element: bpmn:sequenceFlow at 0x7f6eee884340>, <DOM Text node \"'\\n    '\">, <DOM Element: bpmn:sequenceFlow at 0x7f6eee8843d8>, <DOM Text node \"'\\n    '\">, <DOM Element: bpmn:task at 0x7f6eee884470>, <DOM Text node \"'\\n    '\">, <DOM Element: bpmn:exclusiveGateway at 0x7f6eee8846d0>, <DOM Text node \"'\\n    '\">, <DOM Element: bpmn:task at 0x7f6eee8849c8>, <DOM Text node \"'\\n    '\">, <DOM Element: bpmn:sequenceFlow at 0x7f6eee884af8>, <DOM Text node \"'\\n    '\">, <DOM Element: bpmn:sequenceFlow at 0x7f6eee884b90>, <DOM Text node \"'\\n    '\">, <DOM Element: bpmn:sequenceFlow at 0x7f6eee884c28>, <DOM Text node \"'\\n    '\">, <DOM Element: bpmn:sequenceFlow at 0x7f6eee884cc0>, <DOM Text node \"'\\n    '\">, <DOM Element: bpmn:sequenceFlow at 0x7f6eee884d58>, <DOM Text node \"'\\n    '\">, <DOM Element: bpmn:sequenceFlow at 0x7f6eee884df0>, <DOM Text node \"'\\n    '\">, <DOM Element: bpmn:task at 0x7f6eee884e88>, <DOM Text node \"'\\n    '\">, <DOM Element: bpmn:task at 0x7f6eee88d178>, <DOM Text node \"'\\n    '\">, <DOM Element: bpmn:endEvent at 0x7f6eee88d340>, <DOM Text node \"'\\n    '\">, <DOM Element: bpmn:task at 0x7f6eee88d470>, <DOM Text node \"'\\n    '\">, <DOM Element: bpmn:endEvent at 0x7f6eee88d638>, <DOM Text node \"'\\n    '\">, <DOM Element: bpmn:task at 0x7f6eee88d768>, <DOM Text node \"'\\n    '\">, <DOM Element: bpmn:sequenceFlow at 0x7f6eee88d9c8>, <DOM Text node \"'\\n    '\">, <DOM Element: bpmn:dataObjectReference at 0x7f6eee88da60>, <DOM Text node \"'\\n    '\">, <DOM Element: bpmn:dataObject at 0x7f6eee88daf8>, <DOM Text node \"'\\n  '\">]\n",
            "ID: Process_06jctpw\n",
            "---Process---\n",
            "<DOM Element: bpmn:process at 0x7f6eee88db90>\n",
            "[<DOM Text node \"'\\n    '\">, <DOM Element: bpmn:startEvent at 0x7f6eee88dc28>, <DOM Text node \"'\\n    '\">, <DOM Element: bpmn:task at 0x7f6eee88dd58>, <DOM Text node \"'\\n    '\">, <DOM Element: bpmn:task at 0x7f6eee88df20>, <DOM Text node \"'\\n    '\">, <DOM Element: bpmn:exclusiveGateway at 0x7f6eee816178>, <DOM Text node \"'\\n    '\">, <DOM Element: bpmn:task at 0x7f6eee8163d8>, <DOM Text node \"'\\n    '\">, <DOM Element: bpmn:endEvent at 0x7f6eee816638>, <DOM Text node \"'\\n    '\">, <DOM Element: bpmn:sequenceFlow at 0x7f6eee816768>, <DOM Text node \"'\\n    '\">, <DOM Element: bpmn:sequenceFlow at 0x7f6eee816800>, <DOM Text node \"'\\n    '\">, <DOM Element: bpmn:sequenceFlow at 0x7f6eee816898>, <DOM Text node \"'\\n    '\">, <DOM Element: bpmn:sequenceFlow at 0x7f6eee816930>, <DOM Text node \"'\\n    '\">, <DOM Element: bpmn:sequenceFlow at 0x7f6eee8169c8>, <DOM Text node \"'\\n    '\">, <DOM Element: bpmn:sequenceFlow at 0x7f6eee816a60>, <DOM Text node \"'\\n  '\">]\n",
            "ID: Process_10zohcj\n"
          ],
          "name": "stdout"
        }
      ]
    },
    {
      "cell_type": "code",
      "metadata": {
        "id": "pm86GZ489a6R"
      },
      "source": [
        "#Lista que contiene los elementos de cada proceso en sublistas\n",
        "EleNodes = []\n",
        "for process in processes:\n",
        "  nodes = process.childNodes\n",
        "  EleNodes.append(getElement(nodes))"
      ],
      "execution_count": null,
      "outputs": []
    },
    {
      "cell_type": "code",
      "metadata": {
        "id": "s27ZUUMQtSEA"
      },
      "source": [
        "#hace listas de objetos de cada tipo de token\n",
        "tasks=[]\n",
        "starts=[]\n",
        "DORs=[]\n",
        "flows=[]\n",
        "ends=[]\n",
        "gateways=[]\n",
        "for node in EleNodes:\n",
        "  for element in node:\n",
        "    if 'task' in element.tagName:\n",
        "      if element.childNodes:\n",
        "        hijos = getElement(element.childNodes)\n",
        "        for hijo in hijos:\n",
        "         if 'dataOutputAssociation' in hijo.tagName:\n",
        "          nodes = getElement(hijo.childNodes)\n",
        "          for node in nodes:\n",
        "            if 'targetRef' in node.tagName:\n",
        "              DOR = node.firstChild.nodeValue\n",
        "              tasks.append(Task_Token(element.getAttribute('id'),element.getAttribute('name'),DOR))\n",
        "      else:\n",
        "        tasks.append(Task_Token(element.getAttribute('id'),element.getAttribute('name')))\n",
        "    elif 'startEvent' in element.tagName:\n",
        "      starts.append(startEvent_Token(element.getAttribute('id'),element.getAttribute('name')))\n",
        "    elif 'dataObjectReference' in element.tagName:\n",
        "      DORs.append(DOR_Token(element.getAttribute('id'),element.getAttribute('name').split('\\n')))\n",
        "    elif 'sequenceFlow' in element.tagName:\n",
        "      entrada = element.getAttribute('sourceRef')\n",
        "      salida = element.getAttribute('targetRef')\n",
        "      if element.hasAttribute('name'):\n",
        "        flows.append(sequenceFlow_Token(element.getAttribute('id'),entrada,salida,element.getAttribute('name')))\n",
        "      else:\n",
        "        flows.append(sequenceFlow_Token(element.getAttribute('id'),entrada,salida))\n",
        "    elif 'endEvent' in element.tagName:\n",
        "      if element.hasAttribute('name'):\n",
        "        ends.append(endEvent_Token(element.getAttribute('id'),element.getAttribute('name')))\n",
        "      else:\n",
        "        ends.append(endEvent_Token(element.getAttribute('id')))\n",
        "    elif 'exclusiveGateway' in element.tagName:\n",
        "      gateways.append(gateway_Token(element.getAttribute('id'),element.getAttribute('name')))"
      ],
      "execution_count": null,
      "outputs": []
    },
    {
      "cell_type": "code",
      "metadata": {
        "id": "h25J9n_U1Ue8"
      },
      "source": [
        "def conectar_salida(lista):\n",
        "  for el in lista:\n",
        "    el.salida = []\n",
        "    for f in flows:\n",
        "      if el.id == f.entrada:\n",
        "        el.salida.append(f)\n",
        "        f.entrada = el\n",
        "    if not el.salida:\n",
        "      el.salida = None"
      ],
      "execution_count": null,
      "outputs": []
    },
    {
      "cell_type": "code",
      "metadata": {
        "id": "9FlnUpzT27af"
      },
      "source": [
        "conectar_salida(tasks)\n",
        "conectar_salida(starts)\n",
        "conectar_salida(gateways)"
      ],
      "execution_count": null,
      "outputs": []
    },
    {
      "cell_type": "code",
      "metadata": {
        "id": "CTln_os_4jfF"
      },
      "source": [
        "def conectar_entrada(lista):\n",
        "  for f in flows:\n",
        "    for el in lista:\n",
        "      if f.salida == el.id:\n",
        "        f.salida = el\n",
        "        el.entrada = f"
      ],
      "execution_count": null,
      "outputs": []
    },
    {
      "cell_type": "code",
      "metadata": {
        "id": "zUFwiu415UiO"
      },
      "source": [
        "conectar_entrada(tasks)\n",
        "conectar_entrada(DORs)\n",
        "conectar_entrada(ends)\n",
        "conectar_entrada(gateways)"
      ],
      "execution_count": null,
      "outputs": []
    },
    {
      "cell_type": "code",
      "metadata": {
        "id": "4s81iccDxY_1",
        "outputId": "6f0870e9-4bd8-40ad-9cca-3316d5b560ee",
        "colab": {
          "base_uri": "https://localhost:8080/",
          "height": 129
        }
      },
      "source": [
        "for dor in DORs:\n",
        "  print(dor.campos)"
      ],
      "execution_count": null,
      "outputs": [
        {
          "output_type": "stream",
          "text": [
            "['integer codigo', 'string nombre', 'integer precio', 'string categoria']\n",
            "['integer codigo', 'string comprador', 'string vendedor', 'string descripcion', 'integer monto']\n",
            "['string nombre', 'string usuario', 'string contraseña']\n",
            "['integer codigo', 'string comprador', 'string vendedor', 'string descripcion', 'integer monto']\n",
            "['integer id', 'string nombre', 'string correo', 'string tipo_usuario', 'integer telefono']\n",
            "['integer codigo', 'string comprador', 'string vendedor', 'string descripcion', 'integer monto']\n"
          ],
          "name": "stdout"
        }
      ]
    },
    {
      "cell_type": "code",
      "metadata": {
        "id": "6_i_7FrTxWfi"
      },
      "source": [
        "class atributo:\n",
        "  def __init__(self,nombre,tipo):\n",
        "    self.nombre = nombre\n",
        "    self.tipo = tipo"
      ],
      "execution_count": null,
      "outputs": []
    },
    {
      "cell_type": "code",
      "metadata": {
        "id": "bV0Wpmsix0Ao"
      },
      "source": [
        "class Dato:\n",
        "  def __init__(self,nombre,atributos):\n",
        "    self.nombre = nombre\n",
        "    self.atributos = atributos\n",
        "Datos = []"
      ],
      "execution_count": null,
      "outputs": []
    },
    {
      "cell_type": "code",
      "metadata": {
        "id": "H6NJhdFSoGhw",
        "outputId": "231189b1-9301-44af-c013-bcd935e39da2",
        "colab": {
          "base_uri": "https://localhost:8080/",
          "height": 634
        }
      },
      "source": [
        "for task in tasks:\n",
        "  if task.DOR:\n",
        "    for DOR in DORs:\n",
        "      if DOR.id == task.DOR:\n",
        "        task.DOR = DOR\n",
        "        atributos = []\n",
        "        for campo in DOR.campos:\n",
        "          attrs = campo.split(\" \")\n",
        "          atributos.append(atributo(attrs[1], attrs[0]))\n",
        "        Datos.append(Dato(task.name,atributos))\n",
        "json = []\n",
        "for dato in Datos:\n",
        "  dic = {}\n",
        "  #print(\"nombre\", dato.nombre)\n",
        "  att = []\n",
        "  for attr in dato.atributos:\n",
        "    dic1 = {}\n",
        "    #print(\" atributo: nombre:\", attr.nombre, \"tipo: \", attr.tipo)\n",
        "    dic1.setdefault('name', attr.nombre)\n",
        "    dic1.setdefault('attribute_type', attr.tipo)\n",
        "    att.append(dic1)\n",
        "  dic.setdefault('name', dato.nombre)\n",
        "  dic.setdefault('attributes', att)\n",
        "  json.append(dic)\n",
        "json"
      ],
      "execution_count": null,
      "outputs": [
        {
          "output_type": "execute_result",
          "data": {
            "text/plain": [
              "[{'attributes': [{'attribute_type': 'integer', 'name': 'codigo'},\n",
              "   {'attribute_type': 'string', 'name': 'comprador'},\n",
              "   {'attribute_type': 'string', 'name': 'vendedor'},\n",
              "   {'attribute_type': 'string', 'name': 'descripcion'},\n",
              "   {'attribute_type': 'integer', 'name': 'monto'}],\n",
              "  'name': 'VER pedidos'},\n",
              " {'attributes': [{'attribute_type': 'string', 'name': 'nombre'},\n",
              "   {'attribute_type': 'string', 'name': 'usuario'},\n",
              "   {'attribute_type': 'string', 'name': 'contraseña'}],\n",
              "  'name': 'MODIFICAR datos de cuenta'},\n",
              " {'attributes': [{'attribute_type': 'integer', 'name': 'codigo'},\n",
              "   {'attribute_type': 'string', 'name': 'nombre'},\n",
              "   {'attribute_type': 'integer', 'name': 'precio'},\n",
              "   {'attribute_type': 'string', 'name': 'categoria'}],\n",
              "  'name': 'CREAR productos'},\n",
              " {'attributes': [{'attribute_type': 'integer', 'name': 'codigo'},\n",
              "   {'attribute_type': 'string', 'name': 'comprador'},\n",
              "   {'attribute_type': 'string', 'name': 'vendedor'},\n",
              "   {'attribute_type': 'string', 'name': 'descripcion'},\n",
              "   {'attribute_type': 'integer', 'name': 'monto'}],\n",
              "  'name': 'VER pedidos'},\n",
              " {'attributes': [{'attribute_type': 'integer', 'name': 'id'},\n",
              "   {'attribute_type': 'string', 'name': 'nombre'},\n",
              "   {'attribute_type': 'string', 'name': 'correo'},\n",
              "   {'attribute_type': 'string', 'name': 'tipo_usuario'},\n",
              "   {'attribute_type': 'integer', 'name': 'telefono'}],\n",
              "  'name': 'CREAR nuevo usuario'},\n",
              " {'attributes': [{'attribute_type': 'integer', 'name': 'codigo'},\n",
              "   {'attribute_type': 'string', 'name': 'comprador'},\n",
              "   {'attribute_type': 'string', 'name': 'vendedor'},\n",
              "   {'attribute_type': 'string', 'name': 'descripcion'},\n",
              "   {'attribute_type': 'integer', 'name': 'monto'}],\n",
              "  'name': 'VER pedidos'}]"
            ]
          },
          "metadata": {
            "tags": []
          },
          "execution_count": 22
        }
      ]
    },
    {
      "cell_type": "code",
      "metadata": {
        "id": "BaLykMzr8Cbq"
      },
      "source": [
        ""
      ],
      "execution_count": null,
      "outputs": []
    }
  ]
}